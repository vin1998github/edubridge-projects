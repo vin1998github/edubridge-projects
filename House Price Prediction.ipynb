{
 "cells": [
  {
   "cell_type": "code",
   "execution_count": 1,
   "id": "a0e7149d-c924-4216-89fa-2dead0124cc8",
   "metadata": {},
   "outputs": [],
   "source": [
    "import pandas as pd\n",
    "import matplotlib.pyplot as plt\n",
    "import seaborn as sns\n",
    "import numpy as np\n",
    "import warnings\n",
    "warnings.filterwarnings('ignore')"
   ]
  },
  {
   "cell_type": "code",
   "execution_count": 2,
   "id": "bc3fb01a-8929-4a01-bb67-770553fad0d4",
   "metadata": {},
   "outputs": [],
   "source": [
    "data = pd.read_csv('house_price.csv')"
   ]
  },
  {
   "cell_type": "code",
   "execution_count": 3,
   "id": "ec8af6d1-2c7e-49d1-8d67-7ab838c92daf",
   "metadata": {},
   "outputs": [
    {
     "data": {
      "text/html": [
       "<div>\n",
       "<style scoped>\n",
       "    .dataframe tbody tr th:only-of-type {\n",
       "        vertical-align: middle;\n",
       "    }\n",
       "\n",
       "    .dataframe tbody tr th {\n",
       "        vertical-align: top;\n",
       "    }\n",
       "\n",
       "    .dataframe thead th {\n",
       "        text-align: right;\n",
       "    }\n",
       "</style>\n",
       "<table border=\"1\" class=\"dataframe\">\n",
       "  <thead>\n",
       "    <tr style=\"text-align: right;\">\n",
       "      <th></th>\n",
       "      <th>Location</th>\n",
       "      <th>BHK</th>\n",
       "      <th>Furnishing</th>\n",
       "      <th>Sq.ft</th>\n",
       "      <th>Old(years)</th>\n",
       "      <th>Floor</th>\n",
       "      <th>Price</th>\n",
       "    </tr>\n",
       "  </thead>\n",
       "  <tbody>\n",
       "    <tr>\n",
       "      <th>0</th>\n",
       "      <td>Bommanahalli</td>\n",
       "      <td>3</td>\n",
       "      <td>1</td>\n",
       "      <td>3000</td>\n",
       "      <td>1</td>\n",
       "      <td>3</td>\n",
       "      <td>28000</td>\n",
       "    </tr>\n",
       "    <tr>\n",
       "      <th>1</th>\n",
       "      <td>Bommanahalli</td>\n",
       "      <td>3</td>\n",
       "      <td>1</td>\n",
       "      <td>1650</td>\n",
       "      <td>10</td>\n",
       "      <td>0</td>\n",
       "      <td>18000</td>\n",
       "    </tr>\n",
       "    <tr>\n",
       "      <th>2</th>\n",
       "      <td>Whitefield</td>\n",
       "      <td>2</td>\n",
       "      <td>0</td>\n",
       "      <td>1000</td>\n",
       "      <td>5</td>\n",
       "      <td>3</td>\n",
       "      <td>16400</td>\n",
       "    </tr>\n",
       "    <tr>\n",
       "      <th>3</th>\n",
       "      <td>Whitefield</td>\n",
       "      <td>3</td>\n",
       "      <td>0</td>\n",
       "      <td>1600</td>\n",
       "      <td>1</td>\n",
       "      <td>9</td>\n",
       "      <td>27000</td>\n",
       "    </tr>\n",
       "    <tr>\n",
       "      <th>4</th>\n",
       "      <td>Whitefield</td>\n",
       "      <td>2</td>\n",
       "      <td>1</td>\n",
       "      <td>1200</td>\n",
       "      <td>5</td>\n",
       "      <td>1</td>\n",
       "      <td>20000</td>\n",
       "    </tr>\n",
       "  </tbody>\n",
       "</table>\n",
       "</div>"
      ],
      "text/plain": [
       "       Location  BHK  Furnishing  Sq.ft  Old(years)  Floor  Price\n",
       "0  Bommanahalli    3           1   3000           1      3  28000\n",
       "1  Bommanahalli    3           1   1650          10      0  18000\n",
       "2    Whitefield    2           0   1000           5      3  16400\n",
       "3    Whitefield    3           0   1600           1      9  27000\n",
       "4    Whitefield    2           1   1200           5      1  20000"
      ]
     },
     "execution_count": 3,
     "metadata": {},
     "output_type": "execute_result"
    }
   ],
   "source": [
    "data.head()"
   ]
  },
  {
   "cell_type": "code",
   "execution_count": 4,
   "id": "1530e104-c13d-47c4-91d0-e0ba02df5f89",
   "metadata": {},
   "outputs": [
    {
     "name": "stdout",
     "output_type": "stream",
     "text": [
      "<class 'pandas.core.frame.DataFrame'>\n",
      "RangeIndex: 1000 entries, 0 to 999\n",
      "Data columns (total 7 columns):\n",
      " #   Column      Non-Null Count  Dtype \n",
      "---  ------      --------------  ----- \n",
      " 0   Location    1000 non-null   object\n",
      " 1   BHK         1000 non-null   int64 \n",
      " 2   Furnishing  1000 non-null   int64 \n",
      " 3   Sq.ft       1000 non-null   int64 \n",
      " 4   Old(years)  1000 non-null   int64 \n",
      " 5   Floor       1000 non-null   int64 \n",
      " 6   Price       1000 non-null   int64 \n",
      "dtypes: int64(6), object(1)\n",
      "memory usage: 54.8+ KB\n"
     ]
    }
   ],
   "source": [
    "data.info()"
   ]
  },
  {
   "cell_type": "code",
   "execution_count": 5,
   "id": "0cc60557-4e4e-4b1c-9543-8a9fd211113f",
   "metadata": {},
   "outputs": [
    {
     "data": {
      "text/html": [
       "<div>\n",
       "<style scoped>\n",
       "    .dataframe tbody tr th:only-of-type {\n",
       "        vertical-align: middle;\n",
       "    }\n",
       "\n",
       "    .dataframe tbody tr th {\n",
       "        vertical-align: top;\n",
       "    }\n",
       "\n",
       "    .dataframe thead th {\n",
       "        text-align: right;\n",
       "    }\n",
       "</style>\n",
       "<table border=\"1\" class=\"dataframe\">\n",
       "  <thead>\n",
       "    <tr style=\"text-align: right;\">\n",
       "      <th></th>\n",
       "      <th>BHK</th>\n",
       "      <th>Furnishing</th>\n",
       "      <th>Sq.ft</th>\n",
       "      <th>Old(years)</th>\n",
       "      <th>Floor</th>\n",
       "      <th>Price</th>\n",
       "    </tr>\n",
       "  </thead>\n",
       "  <tbody>\n",
       "    <tr>\n",
       "      <th>count</th>\n",
       "      <td>1000.000000</td>\n",
       "      <td>1000.000000</td>\n",
       "      <td>1000.000000</td>\n",
       "      <td>1000.000000</td>\n",
       "      <td>1000.000000</td>\n",
       "      <td>1000.000000</td>\n",
       "    </tr>\n",
       "    <tr>\n",
       "      <th>mean</th>\n",
       "      <td>2.436000</td>\n",
       "      <td>0.348000</td>\n",
       "      <td>1448.613000</td>\n",
       "      <td>4.029000</td>\n",
       "      <td>3.465000</td>\n",
       "      <td>22829.900000</td>\n",
       "    </tr>\n",
       "    <tr>\n",
       "      <th>std</th>\n",
       "      <td>0.496135</td>\n",
       "      <td>0.476574</td>\n",
       "      <td>491.272535</td>\n",
       "      <td>3.048845</td>\n",
       "      <td>3.245197</td>\n",
       "      <td>7706.410627</td>\n",
       "    </tr>\n",
       "    <tr>\n",
       "      <th>min</th>\n",
       "      <td>2.000000</td>\n",
       "      <td>0.000000</td>\n",
       "      <td>767.000000</td>\n",
       "      <td>1.000000</td>\n",
       "      <td>0.000000</td>\n",
       "      <td>11000.000000</td>\n",
       "    </tr>\n",
       "    <tr>\n",
       "      <th>25%</th>\n",
       "      <td>2.000000</td>\n",
       "      <td>0.000000</td>\n",
       "      <td>1089.000000</td>\n",
       "      <td>1.000000</td>\n",
       "      <td>1.000000</td>\n",
       "      <td>16500.000000</td>\n",
       "    </tr>\n",
       "    <tr>\n",
       "      <th>50%</th>\n",
       "      <td>2.000000</td>\n",
       "      <td>0.000000</td>\n",
       "      <td>1300.000000</td>\n",
       "      <td>5.000000</td>\n",
       "      <td>3.000000</td>\n",
       "      <td>21000.000000</td>\n",
       "    </tr>\n",
       "    <tr>\n",
       "      <th>75%</th>\n",
       "      <td>3.000000</td>\n",
       "      <td>1.000000</td>\n",
       "      <td>1650.000000</td>\n",
       "      <td>5.000000</td>\n",
       "      <td>3.000000</td>\n",
       "      <td>26000.000000</td>\n",
       "    </tr>\n",
       "    <tr>\n",
       "      <th>max</th>\n",
       "      <td>3.000000</td>\n",
       "      <td>1.000000</td>\n",
       "      <td>3155.000000</td>\n",
       "      <td>10.000000</td>\n",
       "      <td>13.000000</td>\n",
       "      <td>45000.000000</td>\n",
       "    </tr>\n",
       "  </tbody>\n",
       "</table>\n",
       "</div>"
      ],
      "text/plain": [
       "               BHK   Furnishing        Sq.ft   Old(years)        Floor  \\\n",
       "count  1000.000000  1000.000000  1000.000000  1000.000000  1000.000000   \n",
       "mean      2.436000     0.348000  1448.613000     4.029000     3.465000   \n",
       "std       0.496135     0.476574   491.272535     3.048845     3.245197   \n",
       "min       2.000000     0.000000   767.000000     1.000000     0.000000   \n",
       "25%       2.000000     0.000000  1089.000000     1.000000     1.000000   \n",
       "50%       2.000000     0.000000  1300.000000     5.000000     3.000000   \n",
       "75%       3.000000     1.000000  1650.000000     5.000000     3.000000   \n",
       "max       3.000000     1.000000  3155.000000    10.000000    13.000000   \n",
       "\n",
       "              Price  \n",
       "count   1000.000000  \n",
       "mean   22829.900000  \n",
       "std     7706.410627  \n",
       "min    11000.000000  \n",
       "25%    16500.000000  \n",
       "50%    21000.000000  \n",
       "75%    26000.000000  \n",
       "max    45000.000000  "
      ]
     },
     "execution_count": 5,
     "metadata": {},
     "output_type": "execute_result"
    }
   ],
   "source": [
    "data.describe()"
   ]
  },
  {
   "cell_type": "code",
   "execution_count": 6,
   "id": "b7547180-baa3-4a7c-87d7-82864daa81cc",
   "metadata": {},
   "outputs": [
    {
     "data": {
      "text/plain": [
       "Location      0\n",
       "BHK           0\n",
       "Furnishing    0\n",
       "Sq.ft         0\n",
       "Old(years)    0\n",
       "Floor         0\n",
       "Price         0\n",
       "dtype: int64"
      ]
     },
     "execution_count": 6,
     "metadata": {},
     "output_type": "execute_result"
    }
   ],
   "source": [
    "data.isna().sum()"
   ]
  },
  {
   "cell_type": "code",
   "execution_count": null,
   "id": "00915c76-f3a7-409e-8adb-9a3d9dd277ec",
   "metadata": {},
   "outputs": [],
   "source": []
  },
  {
   "cell_type": "raw",
   "id": "05f4a9cf-20e5-403e-b21b-cab79e86cbc4",
   "metadata": {},
   "source": [
    "Calculate correlation to the target variable\n",
    "\n",
    "A function called corr() which calculates the Pearson correlation. If we provide the name of the target variable column \"Price\" and then sort the values in descending order, Pandas will show you the features in order of correlation with the target.\n",
    "\n",
    "At the top we have a very strong positive correlation with \"Sq.ft\" - the higher this value, the higher the value of the house. At the bottom we have a strong negative correlation with \"Old(years)\" - the further inland, the lower the house value. The values that are close to zero may not add a great deal individually, but often contribute when combined with other variables."
   ]
  },
  {
   "cell_type": "code",
   "execution_count": 7,
   "id": "1a35996b-1d32-4619-b3fb-5986ebc2f0bc",
   "metadata": {},
   "outputs": [
    {
     "data": {
      "text/html": [
       "<div>\n",
       "<style scoped>\n",
       "    .dataframe tbody tr th:only-of-type {\n",
       "        vertical-align: middle;\n",
       "    }\n",
       "\n",
       "    .dataframe tbody tr th {\n",
       "        vertical-align: top;\n",
       "    }\n",
       "\n",
       "    .dataframe thead th {\n",
       "        text-align: right;\n",
       "    }\n",
       "</style>\n",
       "<table border=\"1\" class=\"dataframe\">\n",
       "  <thead>\n",
       "    <tr style=\"text-align: right;\">\n",
       "      <th></th>\n",
       "      <th>Price</th>\n",
       "    </tr>\n",
       "  </thead>\n",
       "  <tbody>\n",
       "    <tr>\n",
       "      <th>Sq.ft</th>\n",
       "      <td>0.831104</td>\n",
       "    </tr>\n",
       "    <tr>\n",
       "      <th>BHK</th>\n",
       "      <td>0.633094</td>\n",
       "    </tr>\n",
       "    <tr>\n",
       "      <th>Floor</th>\n",
       "      <td>0.599192</td>\n",
       "    </tr>\n",
       "    <tr>\n",
       "      <th>Furnishing</th>\n",
       "      <td>0.018996</td>\n",
       "    </tr>\n",
       "    <tr>\n",
       "      <th>Old(years)</th>\n",
       "      <td>-0.304325</td>\n",
       "    </tr>\n",
       "  </tbody>\n",
       "</table>\n",
       "</div>"
      ],
      "text/plain": [
       "               Price\n",
       "Sq.ft       0.831104\n",
       "BHK         0.633094\n",
       "Floor       0.599192\n",
       "Furnishing  0.018996\n",
       "Old(years) -0.304325"
      ]
     },
     "execution_count": 7,
     "metadata": {},
     "output_type": "execute_result"
    }
   ],
   "source": [
    "data[data.columns[1:]].corr()['Price'][:-1].sort_values(ascending=False).to_frame()"
   ]
  },
  {
   "cell_type": "raw",
   "id": "29754ddd-fd0f-43ac-bb67-5ce255597ec7",
   "metadata": {},
   "source": [
    "Create correlation heatmap\n",
    "\n",
    "To visualise the correlations between all variables, not just the target variable, we can create a correlation matrix. This is essentially the same as the dataframe above, but with a row for each variable, and a neat colour coding scheme that allows you to see which values are most positively or negatively correlated based on the depth of their colour. Pale cells denote values with a negative correlation, while dark cells denote a stronger positive correlation."
   ]
  },
  {
   "cell_type": "code",
   "execution_count": 8,
   "id": "93e92936-5df6-4fba-b6aa-1e4de0bdf07b",
   "metadata": {},
   "outputs": [
    {
     "data": {
      "image/png": "[encoded data removed]",
      "text/plain": [
       "<Figure size 720x432 with 2 Axes>"
      ]
     },
     "metadata": {
      "needs_background": "light"
     },
     "output_type": "display_data"
    }
   ],
   "source": [
    "plt.figure(figsize=(10,6))\n",
    "sns.set_theme(style=\"white\")\n",
    "corr = data.corr()\n",
    "heatmap = sns.heatmap(corr, annot=True, cmap=\"Blues\", fmt=\".1g\")"
   ]
  },
  {
   "cell_type": "code",
   "execution_count": 29,
   "id": "3f69daef-772c-4c1b-b396-b492e66b69b7",
   "metadata": {},
   "outputs": [],
   "source": [
    "data.drop('Old(years)', axis=1, inplace=True)"
   ]
  },
  {
   "cell_type": "code",
   "execution_count": 30,
   "id": "454174fe-1072-481c-bf60-d7e02b7e3384",
   "metadata": {},
   "outputs": [
    {
     "data": {
      "image/png": "[encoded data removed]",
      "text/plain": [
       "<Figure size 432x288 with 1 Axes>"
      ]
     },
     "metadata": {},
     "output_type": "display_data"
    }
   ],
   "source": [
    "sns.countplot(data['Location'], label='Count')\n",
    "plt.show()"
   ]
  },
  {
   "cell_type": "code",
   "execution_count": 31,
   "id": "33711c5f-7dc3-4e76-840e-69758c2c33e1",
   "metadata": {},
   "outputs": [
    {
     "data": {
      "text/plain": [
       "<seaborn.axisgrid.PairGrid at 0x1ea17a182e0>"
      ]
     },
     "execution_count": 31,
     "metadata": {},
     "output_type": "execute_result"
    },
    {
     "data": {
      "image/png": "[encoded data removed]",
      "text/plain": [
       "<Figure size 1080x1080 with 42 Axes>"
      ]
     },
     "metadata": {},
     "output_type": "display_data"
    }
   ],
   "source": [
    "sns.pairplot(data)"
   ]
  },
  {
   "cell_type": "code",
   "execution_count": 32,
   "id": "fd95e588-ebf3-4045-b1e4-62b66256c29e",
   "metadata": {},
   "outputs": [],
   "source": [
    "# Data transform\n",
    "from sklearn.preprocessing import LabelEncoder\n",
    "\n",
    "for col in data.columns:\n",
    "    if data[col].dtypes == 'object':\n",
    "        data[col] = LabelEncoder().fit_transform(data[col])"
   ]
  },
  {
   "cell_type": "code",
   "execution_count": 33,
   "id": "89872513-f71f-4e5d-b559-5d664697f533",
   "metadata": {},
   "outputs": [
    {
     "data": {
      "text/plain": [
       "Location      int32\n",
       "BHK           int64\n",
       "Furnishing    int64\n",
       "Sq.ft         int64\n",
       "Floor         int64\n",
       "Price         int64\n",
       "dtype: object"
      ]
     },
     "execution_count": 33,
     "metadata": {},
     "output_type": "execute_result"
    }
   ],
   "source": [
    "data.dtypes"
   ]
  },
  {
   "cell_type": "code",
   "execution_count": 34,
   "id": "5f1d9283-cec1-4c75-82c6-3f85baf6a2fd",
   "metadata": {},
   "outputs": [],
   "source": [
    "# data.drop('Furnishing', axis=1, inplace=True)"
   ]
  },
  {
   "cell_type": "code",
   "execution_count": 35,
   "id": "9eababd6-4e3a-4f1b-8ed4-9cf4443ba161",
   "metadata": {},
   "outputs": [],
   "source": [
    "# Seperate dependent and independent varibles\n",
    "\n",
    "X = data[data.columns[:-1]]\n",
    "Y = data[data.columns[-1]]\n",
    "\n",
    "X = data.iloc[:, :-1].values\n",
    "Y = data.iloc[:, -1].values"
   ]
  },
  {
   "cell_type": "code",
   "execution_count": 36,
   "id": "9fd9a14d-ba8e-4e88-91be-e3f88bf220af",
   "metadata": {},
   "outputs": [],
   "source": [
    "# Split data for training and testing\n",
    "\n",
    "from sklearn.model_selection import train_test_split\n",
    "\n",
    "X_train, X_test, Y_train, Y_test = train_test_split(X, Y, test_size=0.3)"
   ]
  },
  {
   "cell_type": "code",
   "execution_count": 37,
   "id": "8c248dc3-9ea6-456e-b436-b0c668973f5d",
   "metadata": {},
   "outputs": [
    {
     "data": {
      "text/plain": [
       "array([[-0.98019606,  1.1751393 ,  1.36705979,  0.05990856, -0.42820954],\n",
       "       [-0.98019606, -0.85096294, -0.7314969 , -0.81589452, -1.05333295],\n",
       "       [-0.98019606,  1.1751393 , -0.7314969 ,  0.64240992, -0.42820954],\n",
       "       ...,\n",
       "       [-0.98019606, -0.85096294,  1.36705979, -0.7010351 , -0.42820954],\n",
       "       [ 1.02020406,  1.1751393 ,  1.36705979,  0.67522689,  1.44716071],\n",
       "       [ 1.02020406,  1.1751393 , -0.7314969 ,  0.56036747,  3.00996924]])"
      ]
     },
     "execution_count": 37,
     "metadata": {},
     "output_type": "execute_result"
    }
   ],
   "source": [
    "from sklearn.preprocessing import StandardScaler\n",
    "\n",
    "sc = StandardScaler()\n",
    "sc.fit_transform(X_train)"
   ]
  },
  {
   "cell_type": "code",
   "execution_count": 38,
   "id": "d2f87fbe-3a5c-43a7-bc4c-595b3b2017ba",
   "metadata": {},
   "outputs": [
    {
     "name": "stdout",
     "output_type": "stream",
     "text": [
      "Logistic Model Training Accuracy:  0.26285714285714284\n",
      "Logistic Model Testing Accuracy: 0.23\n"
     ]
    }
   ],
   "source": [
    "# Logistic Regression\n",
    "from sklearn.linear_model import LogisticRegression\n",
    "\n",
    "lm = LogisticRegression()\n",
    "lm.fit(X_train, Y_train)\n",
    "y_pred = lm.predict(X_test)\n",
    "\n",
    "print(\"Logistic Model Training Accuracy: \", lm.score(X_train, Y_train))\n",
    "print(\"Logistic Model Testing Accuracy:\", lm.score(X_test, Y_test))"
   ]
  },
  {
   "cell_type": "code",
   "execution_count": 39,
   "id": "cef54d59-1c29-47f3-970e-168fbb39391a",
   "metadata": {},
   "outputs": [
    {
     "name": "stdout",
     "output_type": "stream",
     "text": [
      "0.28\n",
      "0.26666666666666666\n"
     ]
    }
   ],
   "source": [
    "#applying svc\n",
    "from sklearn.svm import SVC\n",
    "model= SVC()\n",
    "model.fit(X_train, Y_train)\n",
    "\n",
    "train_predict_SVC= model.predict(X_train)\n",
    "test_predict_SVC=model.predict(X_test)\n",
    "\n",
    "Score_SVC_train=model.score(X_train, Y_train)\n",
    "Score_SVC_test=model.score(X_test, Y_test)\n",
    "print(Score_SVC_train)\n",
    "print(Score_SVC_test)"
   ]
  },
  {
   "cell_type": "code",
   "execution_count": 40,
   "id": "6b269364-bf05-4e29-9b6b-1f946c5e9cfc",
   "metadata": {},
   "outputs": [
    {
     "name": "stdout",
     "output_type": "stream",
     "text": [
      "0.9642857142857143\n",
      "0.96\n"
     ]
    }
   ],
   "source": [
    "#knn\n",
    "from sklearn.neighbors import KNeighborsClassifier\n",
    "knn = KNeighborsClassifier()\n",
    "knn.fit(X_train, Y_train)\n",
    "\n",
    "Score_KNN_train=knn.score(X_train, Y_train)\n",
    "Score_KNN_test=knn.score(X_test, Y_test)\n",
    "print(Score_KNN_train)\n",
    "print(Score_KNN_test)"
   ]
  },
  {
   "cell_type": "code",
   "execution_count": 41,
   "id": "6fb2e36c-8bde-45e1-adda-8d718af4348d",
   "metadata": {},
   "outputs": [
    {
     "name": "stdout",
     "output_type": "stream",
     "text": [
      "0.9642857142857143\n",
      "0.96\n"
     ]
    }
   ],
   "source": [
    "# decision tree##\n",
    "\n",
    "from sklearn.tree import DecisionTreeClassifier\n",
    "clf=DecisionTreeClassifier()\n",
    "clf.fit(X_train, Y_train)\n",
    "\n",
    "train_DT_predict= clf.predict(X_train)\n",
    "test_DT_predict=clf.predict(X_test)\n",
    "\n",
    "Score_DT_train=clf.score(X_train, Y_train)\n",
    "Score_DT_test=clf.score(X_test, Y_test)\n",
    "print(Score_DT_train)\n",
    "print(Score_DT_test)"
   ]
  },
  {
   "cell_type": "code",
   "execution_count": 43,
   "id": "cfb6a2c1-5d03-40bd-8826-6aea28b71eab",
   "metadata": {},
   "outputs": [
    {
     "name": "stdout",
     "output_type": "stream",
     "text": [
      "0.9642857142857143\n",
      "0.96\n"
     ]
    }
   ],
   "source": [
    "##randomforest\n",
    "from sklearn.ensemble import RandomForestClassifier\n",
    "rfc= RandomForestClassifier(n_estimators=100)\n",
    "rfc.fit(X_train, Y_train)\n",
    "\n",
    "train_predict_rfc= rfc.predict(X_train)\n",
    "test_predict_rfc=rfc.predict(X_test)\n",
    "\n",
    "Score_RFC_train=rfc.score(X_train, Y_train)\n",
    "Score_RFC_test=rfc.score(X_test, Y_test)\n",
    "print(Score_RFC_train)\n",
    "print(Score_RFC_test)"
   ]
  },
  {
   "cell_type": "code",
   "execution_count": 44,
   "id": "ddbb2d44-b1a1-4336-afc7-7b81c300e04f",
   "metadata": {},
   "outputs": [
    {
     "name": "stdout",
     "output_type": "stream",
     "text": [
      "0.26285714285714284\n",
      "0.23\n"
     ]
    }
   ],
   "source": [
    "# Logistic Regression algorithm\n",
    "from sklearn.linear_model import LogisticRegression\n",
    "lg = LogisticRegression()\n",
    "lg.fit(X_train, Y_train)\n",
    "\n",
    "y_train_pred = lg.predict(X_train)\n",
    "y_test_pred = lg.predict(X_test)\n",
    "\n",
    "Score_LR_train=lg.score(X_train, Y_train)\n",
    "Score_LR_test=lg.score(X_test, Y_test)\n",
    "print(Score_LR_train)\n",
    "print(Score_LR_test)"
   ]
  },
  {
   "cell_type": "code",
   "execution_count": 47,
   "id": "bc25d9bc-1f3d-4339-94f0-6d855a6c0c86",
   "metadata": {},
   "outputs": [
    {
     "data": {
      "text/html": [
       "<div>\n",
       "<style scoped>\n",
       "    .dataframe tbody tr th:only-of-type {\n",
       "        vertical-align: middle;\n",
       "    }\n",
       "\n",
       "    .dataframe tbody tr th {\n",
       "        vertical-align: top;\n",
       "    }\n",
       "\n",
       "    .dataframe thead th {\n",
       "        text-align: right;\n",
       "    }\n",
       "</style>\n",
       "<table border=\"1\" class=\"dataframe\">\n",
       "  <thead>\n",
       "    <tr style=\"text-align: right;\">\n",
       "      <th></th>\n",
       "      <th>Model</th>\n",
       "      <th>Scores_test</th>\n",
       "      <th>Scores_train</th>\n",
       "    </tr>\n",
       "  </thead>\n",
       "  <tbody>\n",
       "    <tr>\n",
       "      <th>0</th>\n",
       "      <td>Logistic Regression</td>\n",
       "      <td>23.000000</td>\n",
       "      <td>26.285714</td>\n",
       "    </tr>\n",
       "    <tr>\n",
       "      <th>1</th>\n",
       "      <td>SVM</td>\n",
       "      <td>26.666667</td>\n",
       "      <td>28.000000</td>\n",
       "    </tr>\n",
       "    <tr>\n",
       "      <th>2</th>\n",
       "      <td>KNN</td>\n",
       "      <td>96.000000</td>\n",
       "      <td>96.428571</td>\n",
       "    </tr>\n",
       "    <tr>\n",
       "      <th>3</th>\n",
       "      <td>Decision Tree</td>\n",
       "      <td>96.000000</td>\n",
       "      <td>96.428571</td>\n",
       "    </tr>\n",
       "    <tr>\n",
       "      <th>4</th>\n",
       "      <td>Random Forest</td>\n",
       "      <td>96.000000</td>\n",
       "      <td>96.428571</td>\n",
       "    </tr>\n",
       "  </tbody>\n",
       "</table>\n",
       "</div>"
      ],
      "text/plain": [
       "                 Model  Scores_test  Scores_train\n",
       "0  Logistic Regression    23.000000     26.285714\n",
       "1                  SVM    26.666667     28.000000\n",
       "2                  KNN    96.000000     96.428571\n",
       "3        Decision Tree    96.000000     96.428571\n",
       "4        Random Forest    96.000000     96.428571"
      ]
     },
     "execution_count": 47,
     "metadata": {},
     "output_type": "execute_result"
    }
   ],
   "source": [
    "from pandas.core.frame import DataFrame\n",
    "Model_Comparison = DataFrame({\n",
    "    'Model' : ['Logistic Regression','SVM','KNN','Decision Tree','Random Forest'],\n",
    "    'Scores_test': [Score_LR_test*100,Score_SVC_test*100,Score_KNN_test*100,Score_DT_test*100,Score_RFC_test*100],\n",
    "    'Scores_train': [Score_LR_train*100,Score_SVC_train*100,Score_KNN_train*100,Score_DT_train*100,Score_RFC_train*100]\n",
    "    })\n",
    "Model_Comparison"
   ]
  },
  {
   "cell_type": "code",
   "execution_count": null,
   "id": "9734d1f4-9a60-4f2f-ad8a-3cf73f1f5b94",
   "metadata": {},
   "outputs": [],
   "source": []
  }
 ],
 "metadata": {
  "kernelspec": {
   "display_name": "Python 3 (ipykernel)",
   "language": "python",
   "name": "python3"
  },
  "language_info": {
   "codemirror_mode": {
    "name": "ipython",
    "version": 3
   },
   "file_extension": ".py",
   "mimetype": "text/x-python",
   "name": "python",
   "nbconvert_exporter": "python",
   "pygments_lexer": "ipython3",
   "version": "3.9.7"
  }
 },
 "nbformat": 4,
 "nbformat_minor": 5
}
